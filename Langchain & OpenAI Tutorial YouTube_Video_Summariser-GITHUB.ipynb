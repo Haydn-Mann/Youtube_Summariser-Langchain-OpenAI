{
 "cells": [
  {
   "cell_type": "markdown",
   "id": "71438dfd",
   "metadata": {},
   "source": [
    "# 1.1 Building AI powered Tools: Langchain & OpenAI\n",
    "\n",
    "In this series I will be exploring how we can build powerful AI application simply & quickly using Langchain and OpenAI.\n",
    "\n",
    "Every use case detailed is designed to make your life easier, find answers quicker, & ultimately give you more headpspace to be more creative in your day to day.\n",
    "\n",
    "These workbooks are designed to help you understand how you build your own AI tools. I will endevour to explain how things work along the way so that you can apply them in different ways, rather than just copy and pasting the codebase.\n",
    "\n",
    "Join on my journey to the 4 day work week.\n",
    "\n",
    "Note, I have built this using Jupyter Notebooks. If you have a Mac, you can access Jupyter Notebooks by downloading Anaconda. Learn how to do this here: https://www.youtube.com/watch?v=PM60D-Pg890&ab_channel=ProgrammingKnowledge\n",
    "\n",
    "Or, you can use Google Collab. https://colab.research.google.com/\n"
   ]
  },
  {
   "cell_type": "markdown",
   "id": "5f18e4f2",
   "metadata": {},
   "source": [
    "# Use case 1: Using Langchain & OpenAI to QA & Summarise YouTube videos\n",
    "\n",
    "\n",
    "Today, we will be using Langchain to enable us to run OpenAI queries and custom prompts on any YouTube video.\n",
    "\n",
    "To kickoff, what is langchain??\n",
    "\n",
    "\n",
    "## Langchain is your Swiss army knife for creating LLM applications\n",
    "\n",
    "\n",
    "\n",
    "LangChain is a framework that helps create applications that use language models. \n",
    "\n",
    "It has two important qualities:\n",
    "\n",
    "1. Data-aware: It allows the language model to connect with other sources of information or data. This means the model can access and use data from different places to make better decisions or provide more accurate answers.\n",
    "\n",
    "3. Agentic: It enables the language model to interact with its environment. This means the model can actively engage with its surroundings, understand instructions, and perform tasks based on that understanding.\n",
    "\n",
    "The main benefits of LangChain are:\n",
    "\n",
    "Components: LangChain provides tools that make it easy to work with language models. These tools are like building blocks that can be used together or separately. They are designed to be flexible and user-friendly, whether you're using the entire LangChain framework or just specific components.\n",
    "\n",
    "Off-the-shelf chains: LangChain offers pre-designed combinations of components that are ready to use for specific tasks. These pre-designed chains make it simple to get started quickly. If you have more complex requirements or specific needs, you can easily customize existing chains or build your own using the available components.\n",
    "\n",
    "In simpler terms, LangChain is a toolbox that helps create applications using language models. It allows the model to use data from different sources and interact with its surroundings. With LangChain, you can use pre-designed tools or create custom solutions to accomplish specific tasks.\n",
    "\n",
    "For this, you will need your OpenAI api key.You can create one here: https://platform.openai.com/account/api-keys\n",
    "\n",
    "Ensure you protect yourself by not sharing this API key and setting rate limits in case it is stolen. You can do that here: https://platform.openai.com/account/rate-limits\n",
    "\n",
    "N.B. Throughout this walkthrough I will be using OpenAI's gpt-3.5-turbo model. There are others available, however, I reccomend you use this one. Check out all the models are here: https://platform.openai.com/account/rate-limits"
   ]
  },
  {
   "cell_type": "markdown",
   "id": "da8a904d",
   "metadata": {},
   "source": [
    "# LET'S BUILD!\n",
    "\n",
    "## Load in the Libraries & Download the YouTube Transcript\n",
    "\n",
    "A Python library is like a collection of pre-built tools or resources that can help make programming in Python easier and more efficient. It's similar to a toolbox filled with different tools that you can use to perform specific tasks."
   ]
  },
  {
   "cell_type": "code",
   "execution_count": 1,
   "id": "21da47b3",
   "metadata": {},
   "outputs": [],
   "source": [
    "#import libraries\n",
    "from langchain.document_loaders import YoutubeLoader #youtube loader\n",
    "from langchain.llms import OpenAI #openAI access\n",
    "import os #use this to load your openAI API into functions"
   ]
  },
  {
   "cell_type": "code",
   "execution_count": 1,
   "id": "37c97f07",
   "metadata": {},
   "outputs": [
    {
     "name": "stdout",
     "output_type": "stream",
     "text": [
      "env: OPENAI_API_KEY=YOUR_API_KEY #do not use string value just =sk-...\n"
     ]
    }
   ],
   "source": [
    "#set your openAI key to as an environment variable\n",
    "%env OPENAI_API_KEY=YOUR_API_KEY #do not use string value just =sk-...\n"
   ]
  },
  {
   "cell_type": "code",
   "execution_count": 3,
   "id": "b86a6848",
   "metadata": {},
   "outputs": [],
   "source": [
    "#Add the YouTube URL you want to scrape the transcipt\n",
    "YouTube_URL = \"https://www.youtube.com/watch?v=uIYujpFmvo8&ab_channel=YCombinator\""
   ]
  },
  {
   "cell_type": "code",
   "execution_count": 4,
   "id": "31558e0b",
   "metadata": {},
   "outputs": [],
   "source": [
    "#load in the data from YouTube\n",
    "yt_loader = YoutubeLoader.from_youtube_url(\n",
    "    YouTube_URL, add_video_info=False\n",
    ")\n"
   ]
  },
  {
   "cell_type": "code",
   "execution_count": 5,
   "id": "45bad2d9",
   "metadata": {},
   "outputs": [],
   "source": [
    "#load the Youtube transcipt in\n",
    "YouTube_Transcript = yt_loader.load()"
   ]
  },
  {
   "cell_type": "code",
   "execution_count": 6,
   "id": "52a42b47",
   "metadata": {},
   "outputs": [
    {
     "data": {
      "text/plain": [
       "[Document(page_content=\"over the past few batches we've seen a pretty big uptick in the number of AI startups that are applying to YC and building AI focused companies so today we thought we would do an episode Focus entirely on AI startup websites welcome to another episode of design review [Music] today we are very lucky to be joined by YC's president Gary tan thanks for having me so Gary why did you want to focus on AI websites for this episode the number one question that is sort of the most important for a lot of startups is actually why now all of the activity around large language models whether using open AI staff or anthropic or open source it's just the most exciting why now that's happening because we just didn't have this level of capability so when you have this crazy new why now often you're actually literally trying to figure out how do you describe a new category that didn't exist before so that's some of the stuff I think we're going to dive into today awesome so we're going to get started with Rosebud all right let's check it out right off the bat what do you see in here Gary well there's a busy thing on the left that's sort of distracting me but AI generated game assets to game development build games at the speed of thought GPT to game that's a lot of that's three different concepts uh all at the same time if you had to take a guess at what what they do based on this what do you think it is I mean I must be a game developer so if I'm not a game developer it's probably not for me yep yeah I'm pulling out the AI generated game assets and then game development but I couldn't tell if game development is for game development or a play on words for like two game like development in general and sometimes I think we see this from Founders where they want to be cute with their tagline and sometimes the meaning gets lost right but they think it's clever because they understand what they do right but it makes it hard for new people to quickly understand you don't want to be clever if clever equals confusing and that's like the first thing that people are trying to understand when they hit a website is what is this and number two being is it for me so I guess we're saying ad generated game assets for game developers right build games at the speed of thought GPT to game so now it makes me think that like this helps you build games rather than just being for assets yep and then there's two obvious call to actions one is a gaming asset generator and then the other one is AI Game Dev platform so it sounds like it is both okay sounds like a lot of things yeah and so I'm confused I don't know which to click so maybe let's just keep scrolling yeah and see if we can uncover this all right so there's a bunch of like media so social proof kind of stuff uh pixel Vibe AI game asset generator okay so now I'm starting to feel like maybe there's multiple products here what do you think yeah for sure and then Sprites makes sense and then there's more calls to action here which is great you know try beta means oh this isn't vaporware so then I guess I click try beta cool okay this is interesting describe your idea here what would be helpful is like even a couple things to click on like even a fly out here that's you know just give me some good ideas just impress me right like how could you just have this right on the home page so people don't even have to click every time you move people uh make them do extra clicks you have risk of drop off some percentage are not going to do it they're going to miss out on this now we keep going but wait there's more AI generated Sky boxes Talking Heads AI Avatar animation so it seems like there's at least four different products here which is kind of confusing because usually you want a single call to action that you're driving people towards here I don't know I guess there could be lots of different types of users coming here that may be interested in different things but I don't know what what advice would you give to maybe improve what we're seeing here seems like we have to be a little bit more opinionated about what we really want the user to click on and do you know a good example of this is actually on this page you know if you really want people to try the beta make that the call to action and then make learn more instead of a button that's equal weight just make it a link and you know one of the most important things to use is contrast in order to figure out in order to be opinionated to the user I want you to do this I would recommend for Rosebud to figure out what their main kpi is and what outcome they want from people that hit their website my hunch is it's not go explore all of these products or figure out whichever one is most interesting to you and try that there's probably one that's their main priority here and given that this talks about game assets my hunch is that's the one and it's the first one here and so maybe some of these other ones just get moved to secondary Pages where it's not the main focus and you can keep everybody focused on just driving them towards the game assets trying that out getting them to use that if that is in fact like the primary action that you want people to take the other question I'd have for them is is there a way that you can make a video or use animation that actually shows the product and then shows in particular for AI a feat of strength so it's like check this out you've never been able to do this before you know type a few things and then look at this magic output I mean those are the types of demos that really well people and that's actually why people are so obsessed with this technology now like the demos and the technological Feats of Strength that people are capable of putting out like that's just blowing people away I think the biggest piece of advice for Rosebud is to focus in on the um the primary product here that you want users to explore and spend time with and get them directly into that product to get the aha moment as quickly as possible that's great yeah thank you Rosebud all right next up we got magic flow so AI workflows made easy how do you feel about these uh call to actions right away that's like create the free account I feel like the flow is not that people come in they read this first paragraph and they immediately click the button right I think what happens they come in they read this first paragraph they're like do I it is free do I want to create a free account and then they go down and explore more and then what are we looking at here user image you can remove the background okay I mean this is actually pretty good it's sort of showing hey this is what we can do you identify they identified the object and then from there you can create different types of scenes so this is interesting because I can't tell whether this is actually what the product does based on reading it that isn't it's more trying to show an example of a workflow that yeah which actually I think is important like you know we've worked with lots of kind of generic workflow companies in the past at YC and I think the problem that they all run into is nobody's like man I really need workflow software instead there's a specific problem that they're looking to solve and so usually what works kind of to your point earlier is to actually focus on very specific use cases that are the most common ones and use that to get people into the product and then they can say oh there's actually much more that I can do here too so it seems like maybe the use case they're trying to Target there is is image customization and maybe it does more than that I don't know okay how it works I like I really like when they do how it works very early because it brings you to a much higher understanding of what's going on it's kind of like when you do YC interviews and you get to do a demo drag and drop tool to create any AI workflow you can think of and then I like that they're using hugging face and stability Ai and chat I mean these are you know being able to pull models from replicate great like most everyone's sort of replicate at this point and they know okay this is where I get a particular open source model to use and I think a lot of people will see those and it'll resonate like oh I'm using chat GPT or I'm using hugging face or whatever and and that makes it feel like oh it's for me okay iterate quickly with our step-by-step debug tool that's actually fun all right okay well that's skeptic I'm skeptical of the claim about fun but it sounds useful so that's good workflows are so much fun optimize for production make sure it's fast and cheap as possible well this is great that I think it is good to use very concrete claims like it's 30 percent cheaper and 25 faster you know the tricky thing about this stuff is like well how do you know and you know there's not really a footnote I'm not saying you need to add one but those are sort of the questions that people sort of think through and then you can use a simple API call from your app I think what I like about that section is it feels like it came from lots of conversations with users like the faster cheaper kind of thing is probably the thing that when they talk to users they would tell them were their concerns about using a product like theirs or why don't I just build it myself or something like that um so it seems like they've proactively addressed that which is great how funny I I mean I inherently tried to drag and drop because it felt like I should be able to do that they said that multiple times drag and drop they said drag and drop so the first thing I tried to do is and then when I moused over this thing it actually becomes a hand cursor which is also the affordance for right being able to drag so what happens when you click on it absolutely nothing and I actually clicked on it and uh it dropped me into the login so I'm like oh I did the wrong thing the problem with this interaction is it just doesn't doesn't build trust with me what I expected yeah you just hit a wall and you have to turn back well it said try so okay okay now you're just lying to me yeah yeah yeah yeah uh this is interesting I mean I can see what they're trying to do it's like trying to give you know you're getting tricked into the wall nothing feels like a live example about this right maybe something like do your first one free like don't even actually force people to create an account and put that wall up front instead you could just make it accessible and if somebody wants to save it or use it or however they plan to use it that's when you prompt them to actually create the account because they're already invested in the product when you click through and it's like try it now and you hit this wall there's an even context about like why you should sign up here that's encouraging you to actually like click the sign in button yeah basically you're always fighting the urge for the back button or to go look at Hacker News and how many times have we hit the back button already on this one many times my biggest piece of feedback for them is like there's great stuff here it's just kind of small and like buried on the side there and the more that they can make that like you want to hit people over the head with it otherwise they're just going to quickly scroll past it if they can make it more obvious then this seems great next up we got reality Defender deep fake detection and protection stop deep fakes before they become a problem with reality Defenders proactive detection platform all right so what do we got going on in this video here it's pulling out people and faces I guess yeah this makes me think this is like software for like closed circuit cameras right like to find people walking through the airport or something like that but it talks about deep fakes so it seems like maybe that's not actually what's happening here that's right and there's really too much spacing between them between the lines of this header and then there's not enough spacing between the logos and this bottom body area so the interesting thing is up here I'm sort of getting this Enterprise salesy Vibe and then like it or not on the visual side yeah I think I subconsciously do this and maybe this is a designer thing but it's generally true that um having really good spacing it just sort of contributes to this feeling of quality and when you have little fit and finish issues like you know certain things being too close or headers having the wrong line height it does ruin the Illusion for me that this is something that I can trust at the Enterprise level yeah ruin some of the structure and organization like there's way too much space between this and this and you know if the hard part about this is like does it really matter you know majority of people probably won't tell but for some people it will matter and it just brings down the quality by that like little five or ten percent yep so I think we're like halfway down the page and we still don't really know what they're doing yet stop deep fakes okay developed by okay so this is like a social proof like we're a legit team kind of thing NATO uses it provides Enterprises and entities of any size intuitive protection against damaging deep fakes but I still don't know like how or what they do maybe they'll get into it here um real-time results okay so it does something in real time we're still not sure exactly what it's doing in real time though yeah we're halfway through the page and we're still really looking and we still don't quite understand what it is and we're trying and I think most users when they hit this they're not actually going to try this hard I mean defending democracy sounds pretty important but I also still don't know what it is how though yeah we defend democracy authenticate oh so okay there is an authentication piece so we weren't totally wrong okay about facial detection I guess yeah this is almost a one two three maybe okay so protect what's important scan user generated media for fabricated items okay so you scan user generated media you detect potentially damaging content before it spreads verify voice prints Tech doctor documents and grow your fraud prevention capabilities yeah and so these this is interesting but they don't quite go together because the first two sound like they you're selling it's an API of some sort and you're selling to social media size scanner right or companies to detect right fakes of their products but then there's the people up top right so I'm still confused yeah I mean that's one thing that we're always looking for in the home page like I you want um your ideal customer or your ICP to sort of look at it and say oh that's for me yeah and in order to have that you actually have to write the home page for that particular customer not like a nebulous like any customer anyone who might need our technology like being too General is actually a little bit problematic here yeah being specific is way better and actually one of the best tactics to be able to do this go talk to your existing users ask them how would you describe my product and then take the exact phrase that they say and just put that up at the top of your site because that's ideally the same thing that will resonate for other potential customers what final words of wisdom do you have for a reality Defender here I guess the main thing is and it's always the main thing which is I you know this is my first conversation with this company and I really need to know who's it for what does it do um and then again like some of the things we said earlier still apply here like I kind of want to be impressed especially when you're talking about AI there's some sort of feet of strength that you can show it's like they skip down to the lower tiered things like the most important thing who is it who's it for you got to know that it's like Maslow's hierarchy you can't progress to The Next Step but they seem to do a good job at the social proof you know government approved and go looks like government agencies are using this in visa and Microsoft so like they sell me on on that piece which intrigues me to want to learn more like I take it seriously but I still don't know yeah I mean this case study might be pretty important actually oh yeah that's great I totally missed that how a national public broadcaster detects deep fakes got it I mean that sounds pretty important but even then there's not enough data to really make me want to put my info yeah thank you reality Defender all right next up we got pump cheapest way to save 60 on AWS the no-brainer the fastest okay there is actually a video here let's check out the video I like the tunes that's it pumped up and use this this company exclamation point group discounts AI you know it's got to be good if it's got AI I don't know I think my takeaway from this video is a lot of sensory overload yeah like a lot of colors a lot of movement a lot of graphs like it's cool but I'm not sure that I watched that and I'm like oh yeah I know what these guys do when I want to use it yeah I don't know if I need to watch a Super Bowl ad first yeah like that's not the thing that's going to get me to use it I do like the call to action view my savings makes it feel just very present to hand like oh I could do it very quickly yeah and that seems like the main reason that somebody would use this right is to get savings on their Cloud infrastructure and so if you can like that's the aha moment for this company and so if they can show people right up front how much their savings would be and it becomes a no-brainer to use this product probably I like the social proof that makes sense gotta do that I think the visuals look nice I think a lot of the bright colors and moving elements um maybe potentially overused a lot of times animation can be used effectively to drop the user's eye to something and if a lot of things are moving then it just becomes kind of overwhelming and I think being selective about it so it's what's the thing that you really want to draw people's attention to what's the next step you want them to take and then put animation around that drive a lot of the attention and focus to that so like we've seen a lot of these reduce Cloud spend companies and so I'm kind of wondering with my YC partner hat on like what's different about what these guys are doing and probably that's something that potential customers will be thinking too if you search for like cut Cloud costs probably dozens of potential products that you could go with to help with that so like why these guys is probably the question a lot of their users are going to be asking so would you put like a you know X versus y sort of reference to competitors yeah it's not clear to me what's different like I guess there's AI but like lots of others are probably going to have ai too so I'm not convinced that's enough of a differentiation they keep throwing out this Groupon thing which makes me think there's some like group buying aspect where maybe it's like multiple companies pool they're a group discount multiple companies pooling together in order to get on a better tier with lower pricing would be my hunch but they don't actually really say that anywhere yeah that makes me want to click on FAQ how does the group buying work yeah there we go yeah okay so which is good I mean having an FAQ present to hand means that you can sort of pique someone's interest and then get their you know this is actually a good experience then like if within two clicks you can get you know and actually having these two be the first two that's a good choice by then right I think from the home page we were getting hints that there's this group discount group buying thing that's going on here we saw the group discounting flash we saw something about Groupon but they don't actually say that and it feels like one of those things that you should be people over the head with to make it super obvious that that's what's happening here and that's why it's better what would help me is if there was a customer that I had heard of that had used this already and saved X percent I'm you know usually when that there's a bunch of logos right there so yeah but there's nothing there's you can't really I mean Ruby uses it that sounds great I mean yeah I almost want there to be a case study with like whoever the number one customer is okay and then this is sort of their how it works view your savings estimate like the savings let us know where you'd receive the dollars back join your AWS account okay there is a collective that seems to be the thing that's different here and it's kind of buried I think the advice on this one is to be more explicit around what's different here how they actually help save 60 reduce down some of the motion and animation and bright colors and instead use it sparingly to draw attention to specific things yeah less is more here less is more yep I think that's right okay next up we have voice flow and this one was actually submitted by one of our YouTube viewers so thank you teams use voice flow to design test and launch chat or voice assistance together faster at scale start building it's free or book a call this is um pretty slick I think this is a great demo there's the start so maybe that's that makes sense okay I can visually understand that here's a flow chart it's literally called voice flow it's moving a little too fast for me to dig in and be able to tell what is actually being connected like what this flow is and so that's a similar issue from the prior one that was about generic workflows is trying to figure out like great you do workflows for I don't know if this is voice or chat seems like maybe both but to give a concrete example of who would use this and why I think would be helpful I guess they're making a big deal of multiple people being on the same web page sort of collaboratively be able to build it which is that is a cool feature okay here's some social proof I guess just to buy a hundred thousand teams that's nice I actually like how it chilled out this scroll is this is a good contrast to the last one I was like boom like so much Movement Like You know I'm you know I'm getting dizzy and here it's like oh we're chill like it's yeah don't worry about it yeah it was the same thing up here like there was animation there's motion but it actually made us intrigued it wasn't like oh man I need to put on my sunglasses that's right and then down here yeah we can follow along we can actually realize that there's um a lot of companies that we've heard of before like that's impressive if all of these big companies are actually using their product well that's why they can be chill about it then maybe that's that's the difference okay the interaction image was so good I sort of already got what it was for and whether or not it was for me that's how you know that that uh it's well designed I'm getting the feeling the voice flow existed for a while so it is probably good if you're like one of the old AI companies that didn't just suddenly spawn into existence in the last six months that hey we're sort of hip we're with it yeah it seems nicely designed it seems like lots of people have used it and given feedback on it and they've iterated to this point which is actually another good way to learn is to look at other products that have been around for a while and take some of the techniques that they use and it's really easy to like they've already validated it they've spent years refining it like you get to take their learnings for free right out of the gate and then it's nice how they keep um weaving the different logos and customers throughout as they're making a different point and then they have somebody from that company that's giving a quote that reinforces that it's actually real people at this company it's not like one user tried it one time and then you know stopped using it afterwards yeah this makes it uh very very trustworthy and I like that this is a a coherent point and they've got Molly's face or Colin's face there and uh it feels like real people rather than something that's made up loved by designers great I mean makes sense we can tell yeah game recognized game well done voice flow yeah this is great clear call to actions nicely designed good hierarchy and flow I think we understand what it is the right things drew our attention well yeah I would totally use this if I needed a great AI assistant yes all right that does it for this episode Gary thank you for joining us thanks for having me and thanks to all the founders who submitted their uh websites for review just as a quick reminder if you would like us to review your website in a future episode go ahead and click on the link to the form in the description uh down below so thank you all for watching and we'll see you on the next design review [Music]\", metadata={'source': 'uIYujpFmvo8&ab_channel=YCombinator'})]"
      ]
     },
     "execution_count": 6,
     "metadata": {},
     "output_type": "execute_result"
    }
   ],
   "source": [
    "#the docs have loaded in\n",
    "YouTube_Transcript"
   ]
  },
  {
   "cell_type": "code",
   "execution_count": 7,
   "id": "81fb1683",
   "metadata": {},
   "outputs": [],
   "source": [
    "#convert the list to a string\n",
    "transcript_string = str(YouTube_Transcript)"
   ]
  },
  {
   "cell_type": "markdown",
   "id": "5005845a",
   "metadata": {},
   "source": [
    "# Use NLP (Natural Language Processing to create semantic chunks)\n",
    "\n",
    "NLP is a method of using neural networks to pre-process your data. We will be using the SpaCy library here to makese sense of the unstructured transcript above.\n",
    "\n",
    "There is an alternative called NLTK. However, SpaCy is more powerful and fast NLP. \n",
    "\n",
    "Please note that the longer the text, the longer the model will take to complete the task.\n",
    "\n",
    "In this example, we use spaCy to split the input text into sentences. Then, we join the sentences back together into a single string. Finally, we use textwrap.wrap() to format the text into paragraphs with a specified width."
   ]
  },
  {
   "cell_type": "code",
   "execution_count": 10,
   "id": "9b7b65b1",
   "metadata": {},
   "outputs": [],
   "source": [
    "import spacy #import the NLP library\n",
    "import textwrap #join sentences back together"
   ]
  },
  {
   "cell_type": "code",
   "execution_count": 14,
   "id": "693ab765",
   "metadata": {},
   "outputs": [
    {
     "ename": "SyntaxError",
     "evalue": "invalid syntax. Perhaps you forgot a comma? (3995155508.py, line 2)",
     "output_type": "error",
     "traceback": [
      "\u001b[0;36m  Cell \u001b[0;32mIn[14], line 2\u001b[0;36m\u001b[0m\n\u001b[0;31m    pip install https://github.com/explosion/spacy-models/releases/download/en_core_web_sm-3.0.0/en_core_web_sm-3.0.0.tar.gz\u001b[0m\n\u001b[0m        ^\u001b[0m\n\u001b[0;31mSyntaxError\u001b[0m\u001b[0;31m:\u001b[0m invalid syntax. Perhaps you forgot a comma?\n"
     ]
    }
   ],
   "source": [
    "#install the NLP model required from Github\n",
    "pip install https://github.com/explosion/spacy-models/releases/download/en_core_web_sm-3.0.0/en_core_web_sm-3.0.0.tar.gz\n"
   ]
  },
  {
   "cell_type": "code",
   "execution_count": 16,
   "id": "4bab65f9",
   "metadata": {},
   "outputs": [],
   "source": [
    "nlp = spacy.load(\"en_core_web_sm\") #load the model, this is the small (sm) model. Good for speed where accuracy isn't key\n"
   ]
  },
  {
   "cell_type": "code",
   "execution_count": 18,
   "id": "2358940a",
   "metadata": {},
   "outputs": [],
   "source": [
    "# Process the text with spaCy\n",
    "doc = nlp(text)"
   ]
  },
  {
   "cell_type": "markdown",
   "id": "6a4929c6",
   "metadata": {},
   "source": [
    "With the library and model loaded, we can now add formatting to the string block (e.g. grammar and paragraphs).\n",
    "\n",
    "In addition, we need to split the text using /n as this is what our 'Text splitter' will use to split the massive chuncks of text into smaller ones to feed it to openAI."
   ]
  },
  {
   "cell_type": "code",
   "execution_count": 19,
   "id": "3fdf896f",
   "metadata": {},
   "outputs": [
    {
     "name": "stdout",
     "output_type": "stream",
     "text": [
      "\n",
      "\n",
      "[Document(page_content=\"over the past few batches we've seen a pretty big uptick in the number of AI startups that are applying to YC and building AI focused companies so today we thought we would do an episode Focus entirely on AI startup websites welcome to another episode of design review [Music] today we are very lucky to be joined by YC's president.\n",
      "\n",
      "Gary tan thanks for having me.\n",
      "\n",
      "so Gary why did you want to focus on AI websites for this episode the number one question that is sort of the most important for a lot of startups is actually why now all of the activity around large language models whether using open AI staff or anthropic or open source it's just the most exciting why now that's happening because we just didn't have this level of capability so when you have this crazy new why now often you're actually literally trying to figure out how do you describe a new category that didn't exist before so that's some of the stuff I think we're going to dive into today.\n",
      "\n",
      "awesome so we're going to get started with Rosebud all right let's check it out right off the bat what do you see in here Gary well there's a busy thing on the left that's sort of distracting me but AI generated game assets to game development build games at the speed of thought GPT to game that's a lot of that's three different concepts uh all at the same time if you had to take a guess at what what they do based on this what do you think it is I mean I must be a game developer.\n",
      "\n",
      "so if I'm not a game developer it's probably not for me. yep. yeah.\n",
      "\n",
      "I'm pulling out the AI generated game assets and then game development but I couldn't tell if game development is for game development or a play on words for like two game like development in general and sometimes I think we see this from Founders where they want to be cute with their tagline and sometimes the meaning gets lost right.\n",
      "\n",
      "but they think it's clever because they understand what they do right.\n",
      "\n",
      "but it makes it hard for new people to quickly understand you don't want to be clever if clever equals confusing and that's like the first thing that people are trying to understand when they hit a website is what is this and number two being is it for me.\n",
      "\n",
      "so I guess we're saying ad generated game assets for game developers right build games at the speed of thought GPT to game so now it makes me think that like this helps you build games rather than just being for assets.\n",
      "\n",
      "yep.\n",
      "\n",
      "and then there's two obvious call to actions one is a gaming asset generator and then the other one is AI Game Dev platform so it sounds like it is both okay sounds like a lot of things.\n",
      "\n",
      "yeah.\n",
      "\n",
      "and so I'm confused I don't know which to click so maybe let's just keep scrolling yeah.\n",
      "\n",
      "and see if we can uncover this. all right.\n",
      "\n",
      "so there's a bunch of like media so social proof kind of stuff uh pixel Vibe AI game asset generator.\n",
      "\n",
      "okay.\n",
      "\n",
      "so now I'm starting to feel like maybe there's multiple products here what do you think.\n",
      "\n",
      "yeah. for sure. and then Sprites makes sense.\n",
      "\n",
      "and then there's more calls to action here which is great you know try beta means.\n",
      "\n",
      "oh this isn't vaporware. so then I guess I click try beta. cool.\n",
      "\n",
      "okay this is interesting describe your idea here what would be helpful is like even a couple things to click on like even a fly out here that's you know just give me some good ideas just impress me right like how could you just have this right on the home page so people don't even have to click every time you move people uh make them do extra clicks you have risk of drop off some percentage are not going to do it they're going to miss out on this now we keep going but wait there's more AI generated Sky boxes Talking Heads AI Avatar animation.\n",
      "\n",
      "so it seems like there's at least four different products here which is kind of confusing because usually you want a single call to action that you're driving people towards here I don't know I guess there could be lots of different types of users coming here that may be interested in different things.\n",
      "\n",
      "but I don't know what what advice would you give to maybe improve what we're seeing here seems like we have to be a little bit more opinionated about what we really want the user to click on and do you know a good example of this is actually on this page you know if you really want people to try the beta make that the call to action and then make learn more instead of a button that's equal weight just make it a link and you know one of the most important things to use is contrast in order to figure out in order to be opinionated to the user I want you to do this I would recommend for Rosebud to figure out what their main kpi is and what outcome they want from people that hit their website my hunch is it's not go explore all of these products or figure out whichever one is most interesting to you and try that there's probably one that's their main priority here and given that this talks about game assets my hunch is that's the one.\n",
      "\n",
      "and it's the first one here.\n",
      "\n",
      "and so maybe some of these other ones just get moved to secondary Pages where it's not the main focus and you can keep everybody focused on just driving them towards the game assets trying that out getting them to use that if that is in fact like the primary action that you want people to take the other question I'd have for them is is there a way that you can make a video or use animation that actually shows the product and then shows in particular for AI a feat of strength so it's like check this out you've never been able to do this before you know type a few things and then look at this magic output I mean those are the types of demos that really well people.\n",
      "\n",
      "and that's actually why people are so obsessed with this technology now like the demos and the technological Feats of Strength that people are capable of putting out like.\n",
      "\n",
      "that's just blowing people away I think the biggest piece of advice for Rosebud is to focus in on the um the primary product here that you want users to explore and spend time with and get them directly into that product to get the aha moment as quickly as possible that's great.\n",
      "\n",
      "yeah thank you Rosebud all right next up we got magic flow so AI workflows made easy how do you feel about these uh call to actions right away that's like create the free account I feel like the flow is not that people come in they read this first paragraph and they immediately click the button.\n",
      "\n",
      "right.\n",
      "\n",
      "I think what happens they come in they read this first paragraph they're like do I.\n",
      "\n",
      "it is free. do I want to create a free account.\n",
      "\n",
      "and then they go down and explore more and then what are we looking at here user image you can remove the background.\n",
      "\n",
      "okay. I mean this is actually pretty good.\n",
      "\n",
      "it's sort of showing hey this is what we can do you identify they identified the object and then from there you can create different types of scenes.\n",
      "\n",
      "so this is interesting because I can't tell whether this is actually what the product does based on reading it that isn't it's more trying to show an example of a workflow that.\n",
      "\n",
      "yeah which actually I think is important like you know we've worked with lots of kind of generic workflow companies in the past at YC.\n",
      "\n",
      "and I think the problem that they all run into is nobody's like man I really need workflow software instead there's a specific problem that they're looking to solve and so usually what works kind of to your point earlier is to actually focus on very specific use cases that are the most common ones and use that to get people into the product.\n",
      "\n",
      "and then they can say oh there's actually much more that I can do here too.\n",
      "\n",
      "so it seems like maybe the use case they're trying to Target there is is image customization.\n",
      "\n",
      "and maybe it does more than that I don't know. okay.\n",
      "\n",
      "how it works I like I really like when they do how it works very early because it brings you to a much higher understanding of what's going on it's kind of like when you do YC interviews and you get to do a demo drag and drop tool to create any AI workflow you can think of.\n",
      "\n",
      "and then I like that they're using hugging face and stability Ai and chat I mean these are you know being able to pull models from replicate great like most everyone's sort of replicate at this point.\n",
      "\n",
      "and they know. okay this is where I get a particular open source model to use.\n",
      "\n",
      "and I think a lot of people will see those and it'll resonate like.\n",
      "\n",
      "oh I'm using chat GPT. or I'm using hugging face or whatever and.\n",
      "\n",
      "and that makes it feel like oh it's for me okay iterate quickly with our step-by-step debug tool that's actually fun.\n",
      "\n",
      "all right. okay. well that's skeptic I'm skeptical of the claim about fun.\n",
      "\n",
      "but it sounds useful so that's good workflows are so much fun optimize for production make sure it's fast and cheap as possible.\n",
      "\n",
      "well this is great that I think it is good to use very concrete claims like it's 30 percent cheaper and 25 faster you know the tricky thing about this stuff is like well how do you know.\n",
      "\n",
      "and you know there's not really a footnote I'm not saying you need to add one.\n",
      "\n",
      "but those are sort of the questions that people sort of think through and then you can use a simple API call from your app I think what I like about that section is it feels like it came from lots of conversations with users like the faster cheaper kind of thing is probably the thing that when they talk to users they would tell them were their concerns about using a product like theirs or why don't I just build it myself or something like that.\n",
      "\n",
      "um so it seems like they've proactively addressed that which is great how funny.\n",
      "\n",
      "I I mean I inherently tried to drag and drop because it felt like I should be able to do that they said that multiple times drag and drop they said drag and drop.\n",
      "\n",
      "so the first thing I tried to do is and then when I moused over this thing it actually becomes a hand cursor which is also the affordance for right being able to drag so what happens when you click on it absolutely nothing and I actually clicked on it and uh it dropped me into the login.\n",
      "\n",
      "so I'm like.\n",
      "\n",
      "oh I did the wrong thing the problem with this interaction is it just doesn't doesn't build trust with me what I expected.\n",
      "\n",
      "yeah you just hit a wall and you have to turn back well it said try. so okay.\n",
      "\n",
      "okay now you're just lying to me. yeah. yeah. yeah. yeah uh this is interesting.\n",
      "\n",
      "I mean I can see what they're trying to do it's like trying to give you know.\n",
      "\n",
      "you're getting tricked into the wall nothing feels like a live example about this right maybe something like do your first one free like don't even actually force people to create an account and put that wall up front instead you could just make it accessible and if somebody wants to save it or use it or however they plan to use it that's when you prompt them to actually create the account because they're already invested in the product when you click through.\n",
      "\n",
      "and it's like try it now.\n",
      "\n",
      "and you hit this wall there's an even context about like why you should sign up here that's encouraging you to actually like click the sign in button.\n",
      "\n",
      "yeah basically you're always fighting the urge for the back button or to go look at Hacker News and how many times have we hit the back button already on this one many times my biggest piece of feedback for them is like there's great stuff here.\n",
      "\n",
      "it's just kind of small and like buried on the side there and the more that they can make that like you want to hit people over the head with it otherwise they're just going to quickly scroll past it if they can make it more obvious then this seems great next up we got reality Defender deep fake detection and protection stop deep fakes before they become a problem with reality Defenders proactive detection platform.\n",
      "\n",
      "all right.\n",
      "\n",
      "so what do we got going on in this video here it's pulling out people and faces I guess.\n",
      "\n",
      "yeah this makes me think this is like software for like closed circuit cameras right like to find people walking through the airport or something like that.\n",
      "\n",
      "but it talks about deep fakes so it seems like maybe that's not actually what's happening here that's right.\n",
      "\n",
      "and there's really too much spacing between them between the lines of this header.\n",
      "\n",
      "and then there's not enough spacing between the logos and this bottom body area so the interesting thing is up here.\n",
      "\n",
      "I'm sort of getting this Enterprise salesy Vibe and then like it or not on the visual side.\n",
      "\n",
      "yeah. I think I subconsciously do this. and maybe this is a designer thing.\n",
      "\n",
      "but it's generally true that um having really good spacing it just sort of contributes to this feeling of quality and when you have little fit and finish issues like you know certain things being too close or headers having the wrong line height it does ruin the Illusion for me that this is something that I can trust at the Enterprise level.\n",
      "\n",
      "yeah ruin some of the structure and organization like there's way too much space between this and this.\n",
      "\n",
      "and you know if the hard part about this is like does it really matter you know majority of people probably won't tell but for some people it will matter.\n",
      "\n",
      "and it just brings down the quality by that like little five or ten percent.\n",
      "\n",
      "yep. so I think we're like halfway down the page.\n",
      "\n",
      "and we still don't really know what they're doing yet stop deep fakes okay developed by.\n",
      "\n",
      "okay.\n",
      "\n",
      "so this is like a social proof like we're a legit team kind of thing NATO uses it provides Enterprises and entities of any size intuitive protection against damaging deep fakes.\n",
      "\n",
      "but I still don't know like how or what they do maybe they'll get into it here um real-time results.\n",
      "\n",
      "okay.\n",
      "\n",
      "so it does something in real time we're still not sure exactly what it's doing in real time though.\n",
      "\n",
      "yeah we're halfway through the page and we're still really looking and we still don't quite understand what it is and we're trying.\n",
      "\n",
      "and I think most users when they hit this they're not actually going to try this hard I mean defending democracy sounds pretty important.\n",
      "\n",
      "but I also still don't know what it is how though. yeah we defend democracy.\n",
      "\n",
      "authenticate. oh.\n",
      "\n",
      "so okay there is an authentication piece so we weren't totally wrong okay about facial detection I guess.\n",
      "\n",
      "yeah this is almost a one two three. maybe okay.\n",
      "\n",
      "so protect what's important scan user generated media for fabricated items.\n",
      "\n",
      "okay.\n",
      "\n",
      "so you scan user generated media you detect potentially damaging content before it spreads verify voice prints Tech doctor documents and grow your fraud prevention capabilities.\n",
      "\n",
      "yeah. and so these this is interesting.\n",
      "\n",
      "but they don't quite go together because the first two sound like they you're selling it's an API of some sort.\n",
      "\n",
      "and you're selling to social media size scanner right or companies to detect right fakes of their products.\n",
      "\n",
      "but then there's the people up top right. so I'm still confused. yeah.\n",
      "\n",
      "I mean that's one thing that we're always looking for in the home page like I you want um your ideal customer or your ICP to sort of look at it and say oh that's for me.\n",
      "\n",
      "yeah.\n",
      "\n",
      "and in order to have that you actually have to write the home page for that particular customer not like a nebulous like any customer anyone who might need our technology like being too General is actually a little bit problematic here.\n",
      "\n",
      "yeah being specific is way better and actually one of the best tactics to be able to do this go talk to your existing users ask them how would you describe my product and then take the exact phrase that they say and just put that up at the top of your site because that's ideally the same thing that will resonate for other potential customers what final words of wisdom do you have for a reality Defender here I guess the main thing is and it's always the main thing which is I.\n",
      "\n",
      "you know this is my first conversation with this company.\n",
      "\n",
      "and I really need to know who's it for what does it do um.\n",
      "\n",
      "and then again like some of the things we said earlier still apply here like I kind of want to be impressed especially when you're talking about AI there's some sort of feet of strength that you can show it's like they skip down to the lower tiered things like the most important thing who is it who's it for you got to know that it's like Maslow's hierarchy you can't progress to The Next Step.\n",
      "\n",
      "but they seem to do a good job at the social proof you know government approved and go looks like government agencies are using this in visa and Microsoft so like they sell me on on that piece which intrigues me to want to learn more like I take it seriously.\n",
      "\n",
      "but I still don't know. yeah. I mean this case study might be pretty important.\n",
      "\n",
      "actually. oh yeah. that's great.\n",
      "\n",
      "I totally missed that how a national public broadcaster detects deep fakes got it.\n",
      "\n",
      "I mean that sounds pretty important.\n",
      "\n",
      "but even then there's not enough data to really make me want to put my info.\n",
      "\n",
      "yeah thank you reality Defender all right next up we got pump cheapest way to save 60 on AWS the no-brainer the fastest.\n",
      "\n",
      "okay there is actually a video here let's check out the video I like the tunes that's it pumped up and use this this company exclamation point group discounts.\n",
      "\n",
      "AI you know it's got to be good if it's got. AI.\n",
      "\n",
      "I don't know I think my takeaway from this video is a lot of sensory overload.\n",
      "\n",
      "yeah like a lot of colors a lot of movement a lot of graphs like it's cool.\n",
      "\n",
      "but I'm not sure that I watched that. and I'm like. oh yeah.\n",
      "\n",
      "I know what these guys do when I want to use it. yeah.\n",
      "\n",
      "I don't know if I need to watch a Super Bowl ad first.\n",
      "\n",
      "yeah like that's not the thing that's going to get me to use it I do like the call to action view my savings makes it feel just very present to hand.\n",
      "\n",
      "like oh I could do it very quickly yeah.\n",
      "\n",
      "and that seems like the main reason that somebody would use this right is to get savings on their Cloud infrastructure.\n",
      "\n",
      "and so if you can like that's the aha moment for this company.\n",
      "\n",
      "and so if they can show people right up front how much their savings would be and it becomes a no-brainer to use this product probably I like the social proof that makes sense gotta do that I think the visuals look nice I think a lot of the bright colors and moving elements um maybe potentially overused a lot of times animation can be used effectively to drop the user's eye to something and if a lot of things are moving then it just becomes kind of overwhelming.\n",
      "\n",
      "and I think being selective about it.\n",
      "\n",
      "so it's what's the thing that you really want to draw people's attention to what's the next step you want them to take and then put animation around that drive a lot of the attention and focus to that.\n",
      "\n",
      "so like we've seen a lot of these reduce Cloud spend companies.\n",
      "\n",
      "and so I'm kind of wondering with my YC partner hat on like what's different about what these guys are doing.\n",
      "\n",
      "and probably that's something that potential customers will be thinking too if you search for like cut Cloud costs probably dozens of potential products that you could go with to help with that.\n",
      "\n",
      "so like why these guys is probably the question a lot of their users are going to be asking so would you put like a you know X versus y sort of reference to competitors.\n",
      "\n",
      "yeah. it's not clear to me what's different like I guess there's AI.\n",
      "\n",
      "but like lots of others are probably going to have ai too.\n",
      "\n",
      "so I'm not convinced that's enough of a differentiation they keep throwing out this Groupon thing which makes me think there's some like group buying aspect where maybe it's like multiple companies pool they're a group discount multiple companies pooling together in order to get on a better tier with lower pricing would be my hunch.\n",
      "\n",
      "but they don't actually really say that anywhere.\n",
      "\n",
      "yeah that makes me want to click on FAQ how does the group buying work.\n",
      "\n",
      "yeah there we go. yeah. okay. so which is good.\n",
      "\n",
      "I mean having an FAQ present to hand means that you can sort of pique someone's interest and then get their you know this is actually a good experience then like if within two clicks you can get you know and actually having these two be the first two that's a good choice by then.\n",
      "\n",
      "right I think from the home page we were getting hints that there's this group discount group buying thing that's going on here we saw the group discounting flash we saw something about Groupon.\n",
      "\n",
      "but they don't actually say that.\n",
      "\n",
      "and it feels like one of those things that you should be people over the head with to make it super obvious that that's what's happening here and that's why it's better what would help me is if there was a customer that I had heard of that had used this already and saved X percent.\n",
      "\n",
      "I'm you know usually when that there's a bunch of logos right there. so. yeah.\n",
      "\n",
      "but there's nothing there's you can't really I mean Ruby uses it that sounds great.\n",
      "\n",
      "I mean.\n",
      "\n",
      "yeah I almost want there to be a case study with like whoever the number one customer is okay.\n",
      "\n",
      "and then this is sort of their how it works view your savings estimate like the savings let us know where you'd receive the dollars back join your AWS account.\n",
      "\n",
      "okay there is a collective that seems to be the thing that's different here and it's kind of buried I think the advice on this one is to be more explicit around what's different here how they actually help save 60 reduce down some of the motion and animation and bright colors and instead use it sparingly to draw attention to specific things.\n",
      "\n",
      "yeah less is more here less is more yep. I think that's right.\n",
      "\n",
      "okay next up we have voice flow and this one was actually submitted by one of our YouTube viewers so thank you teams use voice flow to design test and launch chat or voice assistance together faster at scale start building it's free or book a call this is um pretty slick.\n",
      "\n",
      "I think this is a great demo there's the start.\n",
      "\n",
      "so maybe that's that makes sense.\n",
      "\n",
      "okay I can visually understand that here's a flow chart it's literally called voice flow it's moving a little too fast for me to dig in and be able to tell what is actually being connected like what this flow is and so that's a similar issue from the prior one that was about generic workflows is trying to figure out like great you do workflows for I don't know if this is voice or chat seems like maybe both but to give a concrete example of who would use this and why I think would be helpful.\n",
      "\n",
      "I guess they're making a big deal of multiple people being on the same web page sort of collaboratively be able to build it which is that is a cool feature.\n",
      "\n",
      "okay here's some social proof I guess just to buy a hundred thousand teams that's nice.\n",
      "\n",
      "I actually like how it chilled out this scroll is this is a good contrast to the last one I was like boom like so much Movement.\n",
      "\n",
      "Like You know I'm you know I'm getting dizzy and here it's like.\n",
      "\n",
      "oh we're chill like it's. yeah don't worry about it. yeah.\n",
      "\n",
      "it was the same thing up here like there was animation there's motion.\n",
      "\n",
      "but it actually made us intrigued it wasn't like.\n",
      "\n",
      "oh man I need to put on my sunglasses that's right and then down here.\n",
      "\n",
      "yeah we can follow along we can actually realize that there's um a lot of companies that we've heard of before like that's impressive if all of these big companies are actually using their product.\n",
      "\n",
      "well that's why they can be chill about it.\n",
      "\n",
      "then maybe that's that's the difference.\n",
      "\n",
      "okay the interaction image was so good I sort of already got what it was for and whether or not it was for me that's how you know that that uh it's well designed I'm getting the feeling the voice flow existed for a while so it is probably good if you're like one of the old AI companies that didn't just suddenly spawn into existence in the last six months that hey we're sort of hip we're with it.\n",
      "\n",
      "yeah.\n",
      "\n",
      "it seems nicely designed it seems like lots of people have used it and given feedback on it.\n",
      "\n",
      "and they've iterated to this point which is actually another good way to learn is to look at other products that have been around for a while and take some of the techniques that they use.\n",
      "\n",
      "and it's really easy to like they've already validated it they've spent years refining it like you get to take their learnings for free right out of the gate.\n",
      "\n",
      "and then it's nice how they keep um weaving the different logos and customers throughout as they're making a different point.\n",
      "\n",
      "and then they have somebody from that company that's giving a quote that reinforces that it's actually real people at this company it's not like one user tried it one time.\n",
      "\n",
      "and then you know stopped using it afterwards yeah.\n",
      "\n",
      "this makes it uh very very trustworthy and I like that this is a a coherent point and they've got Molly's face or Colin's face there and uh it feels like real people rather than something that's made up loved by designers great.\n",
      "\n",
      "I mean makes sense we can tell yeah game recognized game well done voice flow.\n",
      "\n",
      "yeah this is great clear call to actions nicely designed good hierarchy and flow.\n",
      "\n",
      "I think we understand what it is the right things drew our attention. well.\n",
      "\n",
      "yeah I would totally use this if I needed a great AI assistant.\n",
      "\n",
      "yes all right that does it for this episode.\n",
      "\n",
      "Gary thank you for joining us thanks for having me and thanks to all the founders who submitted their uh websites for review just as a quick reminder if you would like us to review your website in a future episode go ahead and click on the link to the form in the description uh down below so thank you all for watching and we'll see you on the next design review [Music]\", metadata={'source': 'uIYujpFmvo8&ab_channel=.\n",
      "\n",
      "YCombinator'})].\n"
     ]
    }
   ],
   "source": [
    "# Your input text\n",
    "text = transcript_string\n",
    "\n",
    "# Split the text into sentences\n",
    "sentences = [sent.text for sent in doc.sents]\n",
    "\n",
    "# Add full stops to sentences\n",
    "sentences_with_full_stops = [sentence + \".\" if not sentence.endswith((\".\", \"!\", \"?\")) else sentence for sentence in sentences]\n",
    "\n",
    "# Set the desired width for each line\n",
    "line_width = 80\n",
    "\n",
    "# Create formatted paragraphs with consistent line breaks and separators\n",
    "formatted_text = []\n",
    "paragraph = []\n",
    "for sentence in sentences_with_full_stops:\n",
    "    if len(\" \".join(paragraph + [sentence])) > line_width:\n",
    "        formatted_text.append(\" \".join(paragraph))\n",
    "        paragraph = [sentence]\n",
    "    else:\n",
    "        paragraph.append(sentence)\n",
    "formatted_text.append(\" \".join(paragraph))\n",
    "\n",
    "# Add separators between paragraphs\n",
    "formatted_text_with_separators = \"\\n\\n\".join(formatted_text)\n",
    "\n",
    "# Print the formatted text with separators and full stops\n",
    "print(formatted_text_with_separators)"
   ]
  },
  {
   "cell_type": "markdown",
   "id": "ab47d6bd",
   "metadata": {},
   "source": [
    "# Using OpenAI for Q&A's & Custom prompts 🤖\n",
    "\n",
    "So, I am going to give you two method to interact with the text chunk we are about to feed to openAI.\n",
    "\n",
    "## 1st Q&A's\n",
    "\n",
    "We will create a simple q&a function where we can ask specific questions to the text. The outputs are very direct and to the point. This is different to ChatGPT in that it will not work to fill in the blanks or make up information/use sources outside of the text you have fed it.\n",
    "\n",
    "I think this is a great usecase if you don't have time to watch an entire video and have specifc things you want to know whether they are mentioned.\n",
    "\n",
    "## 2nd Custom Prompts\n",
    "\n",
    "From here, we will look to add custom prompts which direct OpenAI to take specific actions. This is very powerful as you can essentially give OpenAI a goal when looking the text & get it to give you specific answers based on the context you give it. \n",
    "\n",
    "The power here is that you can use custom prompts to create your 'so what'. \n",
    "\n",
    "For example, a general summary is useful. But it doesn't guide you on how this information might affect your circumstances or goals. In the example below, I am going to feed it the transcript, which is a video on how AI start ups should design their sites. So, I am going to tell it I am a start up founder and need tips for my site setup.\n",
    "\n",
    "Let's see what it gives me.\n",
    "\n"
   ]
  },
  {
   "cell_type": "markdown",
   "id": "7452c2d4",
   "metadata": {},
   "source": [
    "### 1. Creating a Q&A function"
   ]
  },
  {
   "cell_type": "code",
   "execution_count": 20,
   "id": "93d8892c",
   "metadata": {},
   "outputs": [],
   "source": [
    "#import the library his will split documents recursively by different characters - starting with \"\\n\\n\", then \"\\n\", then \" \". This is nice because it will try to keep all the semantically relevant content in the same place for as long as possible.\n",
    "from langchain.text_splitter import RecursiveCharacterTextSplitter\n",
    "\n",
    "#OpenAI’s text embeddings measure the relatedness of text strings.\n",
    "from langchain.embeddings.openai import OpenAIEmbeddings\n",
    "\n",
    "#Faiss is a library for efficient similarity search and clustering of dense vectors.\n",
    "from langchain.vectorstores.faiss import FAISS\n",
    "\n",
    "#Retreival QA is the library you use to select how you want Langchain to feed summaries to openAI\n",
    "from langchain.chains import RetrievalQA\n",
    "\n",
    "#import the summarise chain library\n",
    "from langchain.chains.summarize import load_summarize_chain"
   ]
  },
  {
   "cell_type": "code",
   "execution_count": 21,
   "id": "2ac56778",
   "metadata": {},
   "outputs": [],
   "source": [
    "#call OpenAI and feed it the OpenAI key. Temperature can be between 0 and 1. 0 means that everytime you run the same query you will get the same outptut. As you increase this, OpenAI will get more creative.\n",
    "llm = OpenAI(temperature=0, openai_api_key=os.environ['OPENAI_API_KEY'])"
   ]
  },
  {
   "cell_type": "code",
   "execution_count": 22,
   "id": "7c917872",
   "metadata": {},
   "outputs": [],
   "source": [
    "#split your text into chunks and tell it how much you want the chunks to overlap. The below is standard, however, you may need to change these if you find that you are going over the OpenAI limits\n",
    "text_splitter = RecursiveCharacterTextSplitter(chunk_size=1000, chunk_overlap=200)\n",
    "\n",
    "#Using the above to split our formatted text\n",
    "texts = text_splitter.split_text(formatted_text_with_separators)\n",
    "\n",
    "#Embedding our splits into a vector store. A vector store is like a giant library that organizes information in a way that makes it easier for computers to understand and find related pieces of information quickly.\n",
    "embeddings = OpenAIEmbeddings()\n",
    "vectorstore = FAISS.from_texts(texts, embeddings)"
   ]
  },
  {
   "cell_type": "code",
   "execution_count": 23,
   "id": "0210dbbd",
   "metadata": {},
   "outputs": [],
   "source": [
    "#Setting up a system that can answer questions by retrieving relevant information from a vector store\n",
    "qa = RetrievalQA.from_chain_type(llm=OpenAI(), chain_type=\"stuff\", retriever=vectorstore.as_retriever())"
   ]
  },
  {
   "cell_type": "code",
   "execution_count": 24,
   "id": "5e1e9733",
   "metadata": {},
   "outputs": [
    {
     "data": {
      "text/plain": [
       "' You should design your AI site by making sure to include a clear call to action and contrast to help draw attention to your main KPI and outcome. Ask your existing users to describe your product and use that phrase at the top of your site. Make sure to prioritize the main goal for your website visitors.'"
      ]
     },
     "execution_count": 24,
     "metadata": {},
     "output_type": "execute_result"
    }
   ],
   "source": [
    "#Enter your query\n",
    "query = \"How should I design my AI site?\"\n",
    "\n",
    "#run the query with the QA system above\n",
    "qa.run(query)"
   ]
  },
  {
   "cell_type": "markdown",
   "id": "a97e026f",
   "metadata": {},
   "source": [
    "### A note on the different core chains for working with Documents\n",
    "\n",
    "There are 4 different chain types within langchain.They are useful for summarizing documents, answering questions over documents, extracting information from documents, and more.\n",
    "\n",
    "You'll see in the cell above & code below ('QA'), that we used stuff. But what happens when we use the others?\n",
    "\n",
    "`qa = RetrievalQA.from_chain_type(llm=OpenAI(), chain_type=\"stuff\", retriever=vectorstore.as_retriever())`\n",
    "\n",
    "\n",
    "Let's first look at each chain type. Stuff and map_reduce are the most commonly used. So, we'll start with those.\n",
    "\n",
    "\n",
    "### 1. Stuff\n",
    "\n",
    "- The \"stuff\" documents chain is a simple way of using a language model to process a list of documents.\n",
    "- It takes the documents you provide, puts them together as a single input, and then asks the language model to work on that combined information.\n",
    "- This approach works best when you have small documents and only need to process a few of them at a time.\n",
    "\n",
    "![Stuff](https://python.langchain.com/assets/images/stuff-818da4c66ee17911bc8861c089316579.jpg)\n",
    "\n",
    "\n",
    "### 2. Map_Reduce\n",
    "\n",
    "- The map reduce documents chain is like a two-step process. First, it takes each document separately and applies a specific set of actions to it based on your prompt. Then, it combines all the processed documents together to get a final result.\n",
    "- You can think of it like this. Imagine you have a pile of papers about European tourism that you need to fit into an envelope to send to a client. The envelope is limited in size & they only care about information on Paris.\n",
    "- In the first step (Map), you take each paper and perform some actions on it, like highlighting important parts about Paris.\n",
    "- Once you've gone through all the papers, you gather them together again. In the second step (Reduce), you combine all the modified papers into one final document; cutting out anything that isn't highlighted. The information on Paris is fed back into the LLM.\n",
    "- To make sure the papers fit nicely in the second step, you might need to compress or condense them, making them smaller if necessary (chaging the chunk & overlap size). If the compressed papers are still too big, you repeat the compression process until they fit.\n",
    "\n",
    "![Map_reduce](https://python.langchain.com/assets/images/map_reduce-c65525a871b62f5cacef431625c4d133.jpg)\n",
    "\n",
    "### 3. Refine\n",
    "\n",
    "- The refine documents chain works by going through the input documents and gradually refining its answer. It does this by repeatedly updating its response based on each document it examines.\n",
    "- Think of it like solving a puzzle or completing a task where you have several pieces of information. The refine chain takes these pieces one by one and incorporates them into its answer. For each document, it considers the information it already has, any additional inputs that are not documents, the current document being examined, and the most recent answer it has generated. Then it uses all of this combined information as input to a language model, which provides a new answer based on the updated context.\n",
    "- The refine chain is useful when you have many documents to analyze, and it's not possible to consider them all together due to the limitations of the model's context. By analyzing the documents one at a time, it can work with a larger set of documents without running into context limitations. However, this approach also means that the refine chain needs to make more calls to the language model, which can be computationally intensive.\n",
    "- There are some cases where the refine chain may not perform optimally. For example, if the documents frequently refer to each other or if the task requires detailed information from multiple documents, the iterative nature of the refine chain might face difficulties in producing accurate results.\n",
    "- In summary, the refine documents chain gradually refines its answer by analyzing each document separately, using the information from previous steps and the latest answer. It is suitable for tasks involving a large number of documents, but it may have limitations in certain scenarios where document cross-references or detailed information from multiple documents are crucial.\n",
    "\n",
    "![Refine](https://python.langchain.com/assets/images/refine-a70f30dd7ada6fe5e3fcc40dd70de037.jpg)\n",
    "\n",
    "\n",
    "### 4. Map re-rank\n",
    "\n",
    "- The map re-rank documents chain works by running an initial prompt on each document. This prompt does two things: it tries to find an answer to a specific task, and it also assigns a score to indicate how confident it is in that answer. The chain then compares all the answers and selects the one with the highest score as the final response.\n",
    "- Imagine you have a list of questions and a set of documents. The chain goes through each document one by one and asks a question about that document. It not only tries to find an answer but also gives that answer a score to indicate how sure it is about the correctness of the answer.\n",
    "- For example, let's say you have a document about cats. The chain would run a prompt on that document, asking a question like \"What is the average lifespan of a cat?\" The chain then provides an answer, say \"The average lifespan of a cat is around 15 years,\" and assigns a score to this answer, say 90 out of 100, indicating high confidence in the accuracy of the answer.\n",
    "- This process is repeated for each document, with different prompts and corresponding answers and scores. Once all the documents have been processed, the chain compares the scores assigned to each answer. It selects the answer with the highest score, which represents the most confident and reliable response.\n",
    "- In simpler terms, the map re-rank documents chain reads through each document, asks a specific question about it, gives an answer with a confidence score, and then chooses the answer with the highest score as the final response.\n",
    "\n",
    "![Map Re-rank](https://python.langchain.com/assets/images/map_rerank-0302b59b690c680ad6099b7bfe6d9fe5.jpg)\n"
   ]
  },
  {
   "cell_type": "markdown",
   "id": "13a1d137",
   "metadata": {},
   "source": [
    "Let's see the outputs we get when feeding the same question and documents but changing the chain type\n",
    "\n",
    "#### 1. Stuff"
   ]
  },
  {
   "cell_type": "code",
   "execution_count": 25,
   "id": "75e657ed",
   "metadata": {},
   "outputs": [
    {
     "data": {
      "text/plain": [
       "' Make sure to have a clear call to action and contrast in order to draw attention to the element you want users to click on. Choose the main KPI you want users to achieve and make that the focus of the website.'"
      ]
     },
     "execution_count": 25,
     "metadata": {},
     "output_type": "execute_result"
    }
   ],
   "source": [
    "#Setting up a system that can answer questions by retrieving relevant information from a vector store\n",
    "qa = RetrievalQA.from_chain_type(llm=OpenAI(), chain_type=\"stuff\", retriever=vectorstore.as_retriever())\n",
    "\n",
    "#Enter your query\n",
    "query = \"How should I design my AI site?\"\n",
    "\n",
    "#run the query with the QA system above\n",
    "qa.run(query)"
   ]
  },
  {
   "cell_type": "markdown",
   "id": "505112c9",
   "metadata": {},
   "source": [
    "#### 2. Map_Reduce"
   ]
  },
  {
   "cell_type": "code",
   "execution_count": 26,
   "id": "3932ce5b",
   "metadata": {},
   "outputs": [
    {
     "data": {
      "text/plain": [
       "' Design your AI site by asking existing users how they would describe your product and use the phrase they say at the top of your site. Make the call to action to try the beta the main focus and use contrast to be opinionated to the user. Figure out the main KPI and outcome you want from people that visit the website.'"
      ]
     },
     "execution_count": 26,
     "metadata": {},
     "output_type": "execute_result"
    }
   ],
   "source": [
    "#Setting up a system that can answer questions by retrieving relevant information from a vector store\n",
    "qa = RetrievalQA.from_chain_type(llm=OpenAI(), chain_type=\"map_reduce\", retriever=vectorstore.as_retriever())\n",
    "\n",
    "#Enter your query\n",
    "query = \"How should I design my AI site?\"\n",
    "\n",
    "#run the query with the QA system above\n",
    "qa.run(query)"
   ]
  },
  {
   "cell_type": "markdown",
   "id": "cd40a862",
   "metadata": {},
   "source": [
    "#### 3. Refine"
   ]
  },
  {
   "cell_type": "code",
   "execution_count": 27,
   "id": "22eef395",
   "metadata": {},
   "outputs": [
    {
     "data": {
      "text/plain": [
       "\"\\n\\nWhen designing your AI site, focus on clearly communicating why now is the time to use your product and what it does. Draw on the words and phrases used by your existing users to describe your product and place them at the top of the page. Additionally, be sure to highlight any impressive features or capabilities your product has. Since AI is a new and exciting technology, make sure to emphasize the unique advantages it can bring to your users. Make sure to use contrast to make your call-to-action stand out - if you want people to try the beta, make that the main call-to-action and make the 'Learn More' button a link instead of a button. Additionally, provide a clear and concise breakdown of what your product does and the value it provides to your users. Figure out what your main KPI is and what outcome you want from people who visit your site. If your product is focused on game assets, make sure that is the main focus and prioritize it accordingly. Finally, make sure to provide clear instructions and guidance on how to use the product, so users can get the most out of the AI features.\""
      ]
     },
     "execution_count": 27,
     "metadata": {},
     "output_type": "execute_result"
    }
   ],
   "source": [
    "#Setting up a system that can answer questions by retrieving relevant information from a vector store\n",
    "qa = RetrievalQA.from_chain_type(llm=OpenAI(), chain_type=\"refine\", retriever=vectorstore.as_retriever())\n",
    "\n",
    "#Enter your query\n",
    "query = \"How should I design my AI site?\"\n",
    "\n",
    "#run the query with the QA system above\n",
    "qa.run(query)"
   ]
  },
  {
   "cell_type": "markdown",
   "id": "e89437af",
   "metadata": {},
   "source": [
    "#### 4. Map Re-Rank"
   ]
  },
  {
   "cell_type": "code",
   "execution_count": 28,
   "id": "711a8ae7",
   "metadata": {},
   "outputs": [
    {
     "data": {
      "text/plain": [
       "' You should focus on having clear call-to-actions, a good design hierarchy, and a logical flow.'"
      ]
     },
     "execution_count": 28,
     "metadata": {},
     "output_type": "execute_result"
    }
   ],
   "source": [
    "#Setting up a system that can answer questions by retrieving relevant information from a vector store\n",
    "qa = RetrievalQA.from_chain_type(llm=OpenAI(), chain_type=\"map_rerank\", retriever=vectorstore.as_retriever())\n",
    "\n",
    "#Enter your query\n",
    "query = \"How should I design my AI site?\"\n",
    "\n",
    "#run the query with the QA system above\n",
    "qa.run(query)"
   ]
  },
  {
   "cell_type": "markdown",
   "id": "77384829",
   "metadata": {},
   "source": [
    "### Analaysing their outputs\n",
    "\n",
    "#### Stuff Chain:\n",
    "\n",
    "- Good: The output suggests designing an AI site with a clear call to action, good hierarchy and flow, and contrast to draw the user's attention. It emphasizes focusing on the main key performance indicator (KPI) and desired outcomes from visitors.\n",
    "- Bad: The output is relatively short and lacks some details. It does not provide specific guidance on user engagement or product communication.\n",
    "- Reason: The Stuff chain is designed to process small documents, so it may prioritize brevity and simplicity. It focuses on providing a quick overview rather than in-depth guidance.\n",
    "- Approach: In the future, we may want to consider using the Stuff chain for tasks that require concise information or when we need a brief summary. However, if we require more detailed recommendations, we should explore other chains.\n",
    "\n",
    "\n",
    "#### Map Reduce Chain:\n",
    "\n",
    "- Good: The output advises designing the AI site with clear call-to-action, good hierarchy and flow, and contrast. It suggests being opinionated towards the user and making the main KPI and desired outcome the focus.\n",
    "- Bad: The output is relatively short and does not provide much specific guidance on user engagement or product communication.\n",
    "- Reason: The Map Reduce chain combines individual document processing with a reduction step, aiming to provide an overall response. However, it may still prioritize brevity and simplicity in the output.\n",
    "- Approach: To get more detailed and comprehensive recommendations, we may need to explore other chains or consider additional processing steps.\n",
    "\n",
    "#### Refine Chain:\n",
    "\n",
    "- Good: The output offers detailed guidance on designing the AI site, including user-focused considerations, highlighting product strengths, and emphasizing the call to action. It covers various aspects such as product description, technology utilization, and visual appeal.\n",
    "- Bad: The output is quite lengthy, and there is a risk of being too verbose or overwhelming for the user. This chain takes the longest also, so you must consider this if you have a massive piece of text and want speedy responses.\n",
    "- Reason: The Refine chain iteratively refines the answer by considering each document separately, leading to a more detailed and comprehensive response.\n",
    "- Approach: When detailed guidance is required, the Refine chain can be valuable. However, it's important to ensure that the output remains concise and user-friendly. Careful editing and prioritization of information can help strike the right balance.\n",
    "\n",
    "#### Map Re-rank Chain:\n",
    "\n",
    "- Good: The output suggests designing the AI site by focusing on the main KPI and desired outcomes from visitors. It advises using contrast to make the call to action stand out and being opinionated about user interaction.\n",
    "- Bad: The output is relatively short and lacks some specific details on product communication or user engagement strategies.\n",
    "- Reason: The Map Re-rank chain aims to re-rank the answers based on scores assigned to each document. While it may provide a higher-scoring response, it may not always capture all the nuances or specific details.\n",
    "- Approach: If we need more comprehensive recommendations, we should consider using other chains or combining multiple approaches to achieve better results.\n",
    "\n",
    "\n",
    "After analyzing these outputs, I have determined that combining the Map Re-Rank and Refine chains would provide the most effective methodology. The Refine chain offers comprehensive recommendations, giving you a fuller picture of the actions to consider. On the other hand, the Map Re-Rank chain prioritizes the most important information, helping you focus on the actions that require immediate attention. By leveraging the Refine chain for a macro view and then employing Map Re-Rank to zero in on prioritizing those actions, you can achieve a well-balanced approach. This combination ensures that you have a holistic understanding of the recommendations while being able to identify and address the critical areas effectively.\n",
    "\n",
    "\n",
    "### Now that we understand how QA'ing & the different map chain types. Let's jump into creating custom prompts"
   ]
  },
  {
   "cell_type": "markdown",
   "id": "a22b513f",
   "metadata": {},
   "source": [
    "# 2. Custom Prompts\n",
    "\n",
    "So, I will start from the beginning again here so you can choose whether you want to do QA or custom prompts without having to think about library dependcies from project to project."
   ]
  },
  {
   "cell_type": "code",
   "execution_count": 35,
   "id": "7f7b7442",
   "metadata": {
    "scrolled": true
   },
   "outputs": [],
   "source": [
    "#remember the text that we processed with the Spacy NLP, I am going to shorten the name down cause I'm lazy and don't want to keep typing that\n",
    "\n",
    "text= formatted_text_with_separators"
   ]
  },
  {
   "cell_type": "code",
   "execution_count": 33,
   "id": "03151476",
   "metadata": {},
   "outputs": [],
   "source": [
    "#import the libraries\n",
    "\n",
    "# Loaders\n",
    "from langchain.schema import Document\n",
    "\n",
    "# Splitters\n",
    "from langchain.text_splitter import RecursiveCharacterTextSplitter\n",
    "\n",
    "# Model\n",
    "from langchain.chat_models import ChatOpenAI\n",
    "\n",
    "# Embedding Support\n",
    "from langchain.vectorstores import FAISS\n",
    "from langchain.embeddings import OpenAIEmbeddings\n",
    "\n",
    "# Summarizer we'll use for Map Reduce\n",
    "from langchain.chains.summarize import load_summarize_chain\n",
    "\n",
    "# Data Science\n",
    "import numpy as np\n",
    "from sklearn.cluster import KMeans"
   ]
  },
  {
   "cell_type": "code",
   "execution_count": 34,
   "id": "2263a18c",
   "metadata": {},
   "outputs": [
    {
     "ename": "AttributeError",
     "evalue": "'str' object has no attribute 'page_content'",
     "output_type": "error",
     "traceback": [
      "\u001b[0;31m---------------------------------------------------------------------------\u001b[0m",
      "\u001b[0;31mAttributeError\u001b[0m                            Traceback (most recent call last)",
      "Cell \u001b[0;32mIn[34], line 8\u001b[0m\n\u001b[1;32m      6\u001b[0m \u001b[38;5;66;03m# Combine docs and replace tabs with spaces\u001b[39;00m\n\u001b[1;32m      7\u001b[0m \u001b[38;5;28;01mfor\u001b[39;00m doc \u001b[38;5;129;01min\u001b[39;00m docs:\n\u001b[0;32m----> 8\u001b[0m     text \u001b[38;5;241m+\u001b[39m\u001b[38;5;241m=\u001b[39m \u001b[43mdoc\u001b[49m\u001b[38;5;241;43m.\u001b[39;49m\u001b[43mpage_content\u001b[49m\u001b[38;5;241m.\u001b[39mreplace(\u001b[38;5;124m'\u001b[39m\u001b[38;5;130;01m\\t\u001b[39;00m\u001b[38;5;124m'\u001b[39m, \u001b[38;5;124m'\u001b[39m\u001b[38;5;124m \u001b[39m\u001b[38;5;124m'\u001b[39m)\n\u001b[1;32m     10\u001b[0m \u001b[38;5;66;03m# Print or use the formatted text as needed\u001b[39;00m\n\u001b[1;32m     11\u001b[0m \u001b[38;5;28mprint\u001b[39m(formatted_text_with_separators)\n",
      "\u001b[0;31mAttributeError\u001b[0m: 'str' object has no attribute 'page_content'"
     ]
    }
   ],
   "source": [
    "#I need to combine the docs and replace any tabs with spaces.\n",
    "\n",
    "#create an empty string to load in our formatted data\n",
    "text=''\n",
    "\n",
    "# Combine docs and replace tabs with spaces\n",
    "for doc in docs:\n",
    "    text += doc.page_content.replace('\\t', ' ')\n",
    "\n",
    "# Print or use the formatted text as needed\n",
    "print(formatted_text_with_separators)"
   ]
  },
  {
   "cell_type": "code",
   "execution_count": 36,
   "id": "47509a92",
   "metadata": {},
   "outputs": [],
   "source": [
    "#split the text into chunks\n",
    "\n",
    "text_splitter = RecursiveCharacterTextSplitter(separators=[\"\\n\\n\", \"\\n\", \"\\t\"], chunk_size=1000, chunk_overlap=300)\n",
    "\n",
    "docs = text_splitter.create_documents([text])"
   ]
  },
  {
   "cell_type": "code",
   "execution_count": 40,
   "id": "41428e4a",
   "metadata": {},
   "outputs": [
    {
     "name": "stdout",
     "output_type": "stream",
     "text": [
      "Now our transcript is split up into 38 documents\n"
     ]
    }
   ],
   "source": [
    "#let's see how our the text splitter has split our document\n",
    "num_documents = len(docs)\n",
    "\n",
    "print (f\"Now our transcript is split up into {num_documents} documents\")"
   ]
  },
  {
   "cell_type": "code",
   "execution_count": 42,
   "id": "b58d123a",
   "metadata": {},
   "outputs": [],
   "source": [
    "#embed the data in a vectorstore\n",
    "embeddings = OpenAIEmbeddings(openai_api_key=os.environ['OPENAI_API_KEY'])\n",
    "vectors = embeddings.embed_documents([x.page_content for x in docs])"
   ]
  },
  {
   "cell_type": "markdown",
   "id": "dd3c9054",
   "metadata": {},
   "source": [
    "Now let's cluster our embeddings.\n",
    "\n",
    "We cluster embeddings to group similar data points together based on their underlying patterns or similarities. By clustering embeddings, we can organize and understand large amounts of data more effectively. This process allows us to discover relationships, patterns, or categories within the data that might not be immediately apparent.\n",
    "\n",
    "So, in this case, we want to cluster together similar contexts which will help us to feed all the relevant information related to our custom prompt into openAI"
   ]
  },
  {
   "cell_type": "code",
   "execution_count": 47,
   "id": "7405ef4f",
   "metadata": {},
   "outputs": [],
   "source": [
    "# Choose the number of clusters, this can be adjusted based on the book's content.\n",
    "# An online resource found that around ~10 was the best as usually if you have 10 passages from a book/pdf/transcript you can tell what it's about\n",
    "num_clusters = 10"
   ]
  },
  {
   "cell_type": "markdown",
   "id": "08f18448",
   "metadata": {},
   "source": [
    "We have a massive piece of text that is embedded. In the code below we will find the closest embeddings of text to find the most similar or closest parts of the text to a set of predefined categories or topics. It allows us to group similar parts of the text together based on their embeddings.\n",
    "\n",
    "Imagine you have a very long text that talks about different topics, such as sports, cooking, and technology. By using embeddings, we can represent each part of the text as a numerical vector. Then, we can calculate the distances between these vectors and the cluster centers, which are representative vectors of each category. By finding the closest embeddings to each cluster center, we can determine which parts of the text are most similar to each category.\n",
    "\n",
    "For example, if we apply this process to a news article, it can help us identify which paragraphs or sentences are talking about sports, cooking, or technology. This can be useful for organizing and analyzing large amounts of text, extracting relevant information, or categorizing different topics within the text."
   ]
  },
  {
   "cell_type": "code",
   "execution_count": 48,
   "id": "46244db8",
   "metadata": {},
   "outputs": [],
   "source": [
    "# Find the closest embeddings to the centroid cluster\n",
    "\n",
    "# Create an empty list that will hold your closest points\n",
    "closest_indices = []\n",
    "\n",
    "# Loop through the number of clusters you have\n",
    "for i in range(num_clusters):\n",
    "    \n",
    "    # Get the list of distances from that particular cluster center\n",
    "    distances = np.linalg.norm(vectors - kmeans.cluster_centers_[i], axis=1)\n",
    "    \n",
    "    # Find the list position of the closest one (using argmin to find the smallest distance)\n",
    "    closest_index = np.argmin(distances)\n",
    "    \n",
    "    # Append that position to your closest indices list\n",
    "    closest_indices.append(closest_index)"
   ]
  },
  {
   "cell_type": "code",
   "execution_count": 50,
   "id": "2e9cae58",
   "metadata": {},
   "outputs": [
    {
     "data": {
      "text/plain": [
       "[0, 1, 4, 11, 15, 20, 23, 26, 29, 34]"
      ]
     },
     "execution_count": 50,
     "metadata": {},
     "output_type": "execute_result"
    }
   ],
   "source": [
    "#so, these are our clusters\n",
    "selected_indices = sorted(closest_indices)\n",
    "selected_indices"
   ]
  },
  {
   "cell_type": "code",
   "execution_count": 57,
   "id": "30c7e33f",
   "metadata": {},
   "outputs": [],
   "source": [
    "#create a LLM variable to create a summary of each the clusters\n",
    "llm = ChatOpenAI(temperature=0,\n",
    "                 openai_api_key=os.environ['OPENAI_API_KEY'],\n",
    "                 max_tokens=150,\n",
    "                 model='gpt-3.5-turbo'\n",
    "                )"
   ]
  },
  {
   "cell_type": "code",
   "execution_count": 56,
   "id": "1c300a95",
   "metadata": {},
   "outputs": [],
   "source": [
    "from langchain import PromptTemplate #import the prompt template library to create our prompt\n",
    "\n",
    "#creating a prompt for OpenAI, these are the actions they will take on each cluster\n",
    "map_prompt = \"\"\"\n",
    "You will be given a single passage of a YouTube Transcript. This section will be enclosed in triple backticks (```)\n",
    "Your goal is to give a summary of this section so that a reader will have a full understanding of what happened.\n",
    "Your response should be at least three paragraphs and fully encompass what was said in the passage.\n",
    "\n",
    "```{text}```\n",
    "FULL SUMMARY:\n",
    "\"\"\"\n",
    "map_prompt_template = PromptTemplate(template=map_prompt, input_variables=[\"text\"])"
   ]
  },
  {
   "cell_type": "code",
   "execution_count": 58,
   "id": "83563d1a",
   "metadata": {},
   "outputs": [],
   "source": [
    "#combining the LLM variable with the prompt template. Here we will use the chain 'stuff' for speed.\n",
    "map_chain = load_summarize_chain(llm=llm3,\n",
    "                             chain_type=\"stuff\",\n",
    "                             prompt=map_prompt_template)"
   ]
  },
  {
   "cell_type": "code",
   "execution_count": 60,
   "id": "717bb76c",
   "metadata": {},
   "outputs": [],
   "source": [
    "#The line of code creates a new list called selected_docs by selecting specific elements from the docs list based on the indices specified in the selected_indices list.\n",
    "selected_docs = [docs[doc] for doc in selected_indices]"
   ]
  },
  {
   "cell_type": "markdown",
   "id": "887be34b",
   "metadata": {},
   "source": [
    "Now we will iterate over a set of selected documents, generating summaries for each document using a specified mapping chain, and store the summaries in a list."
   ]
  },
  {
   "cell_type": "code",
   "execution_count": 62,
   "id": "a40b1d4e",
   "metadata": {},
   "outputs": [
    {
     "name": "stdout",
     "output_type": "stream",
     "text": [
      "Summary #0 (chunk #0) - Preview: In this passage, the speaker discusses the increasing number of AI startups that are applying to YC and building AI-focused companies. As a result, the episode of \"Design Review\" will focus entirely on AI startup websites. The speaker, Gary Tan, who  \n",
      "\n",
      "Summary #1 (chunk #1) - Preview: In this section of the YouTube transcript, the speaker and Gary are discussing a product called Rosebud. The speaker mentions that Rosebud is related to AI-generated game assets and game development. They note that there is a distracting element on t \n",
      "\n",
      "Summary #2 (chunk #4) - Preview: In this passage, the speaker is discussing the possibility of there being multiple products. They mention that Sprites makes sense as one of these products. They also note that there are multiple calls to action, which they find great. They mention s \n",
      "\n",
      "Summary #3 (chunk #11) - Preview: In this passage, the speaker expresses their appreciation for the \"how it works\" segment of a YouTube video, as it helps them gain a deeper understanding of the topic being discussed. They draw a parallel to YC interviews, where they enjoy using a dr \n",
      "\n",
      "Summary #4 (chunk #15) - Preview: In this passage, the speaker is discussing their experience with encountering a wall while using a product or service. They mention that the wall prompts them to turn back and try again. The speaker expresses frustration, stating that they feel like  \n",
      "\n",
      "Summary #5 (chunk #20) - Preview: In this passage, the speaker is discussing their confusion about a certain feature or function that is being used in real time. They mention that they are halfway through the page and still do not fully understand what it does, but they are trying to \n",
      "\n",
      "Summary #6 (chunk #23) - Preview: In this passage, the speaker is having their first conversation with a company and expresses the need to know who the company is and what it does. They mention that they want to be impressed, especially when it comes to AI, and that there should be s \n",
      "\n",
      "Summary #7 (chunk #26) - Preview: In this passage, the speaker discusses the main reason why someone would use a particular product, which is to save money on their Cloud infrastructure. They mention that if the company can demonstrate upfront how much savings can be achieved, it wou \n",
      "\n",
      "Summary #8 (chunk #29) - Preview: In this section of the YouTube transcript, the speaker discusses the importance of having a frequently asked questions (FAQ) section on a website. They mention that although it is not explicitly stated, having an FAQ can pique someone's interest and  \n",
      "\n",
      "Summary #9 (chunk #34) - Preview: In this passage, the speaker is discussing their impressions of a product that many big companies are using. They find it impressive that well-known companies are using this product, suggesting that it must be of high quality. The speaker also mentio \n",
      "\n"
     ]
    }
   ],
   "source": [
    "# Make an empty list to hold your summaries\n",
    "summary_list = []\n",
    "\n",
    "# Loop through a range of the lenght of your selected docs\n",
    "for i, doc in enumerate(selected_docs):\n",
    "    \n",
    "    # Go get a summary of the chunk\n",
    "    chunk_summary = map_chain.run([doc])\n",
    "    \n",
    "    # Append that summary to your list\n",
    "    summary_list.append(chunk_summary)\n",
    "    \n",
    "    print (f\"Summary #{i} (chunk #{selected_indices[i]}) - Preview: {chunk_summary[:250]} \\n\")"
   ]
  },
  {
   "cell_type": "code",
   "execution_count": 64,
   "id": "e651e0b8",
   "metadata": {},
   "outputs": [
    {
     "name": "stdout",
     "output_type": "stream",
     "text": [
      "Your total summary has 1426 tokens\n"
     ]
    }
   ],
   "source": [
    "#join the summaries together\n",
    "summaries = \"\\n\".join(summary_list)\n",
    "\n",
    "# Convert it back to a document\n",
    "summaries = Document(page_content=summaries)\n",
    "\n",
    "#ensure it is not over the token limit for GPT 3.5 turbo (our selected model)\n",
    "print (f\"Your total summary has {llm.get_num_tokens(summaries.page_content)} tokens\")"
   ]
  },
  {
   "cell_type": "markdown",
   "id": "82723cf1",
   "metadata": {},
   "source": [
    "#### We're going to convert this summary to a JSON file.\n",
    "\n",
    "Quick explanation on what a JSON file is \n",
    "\n",
    "A JSON file is like a special type of file that stores information in a structured and organized way. It stands for \"JavaScript Object Notation,\" but don't worry too much about the technical term. Think of it as a way to store data in a format that computers can easily understand.\n",
    "\n",
    "A JSON file looks a bit like a list of instructions or a table. It consists of pairs of information called \"key-value\" pairs. The key is like a label that describes what the value represents. For example, a key might be \"name,\" and the corresponding value would be the actual name. You can have multiple key-value pairs in a JSON file, allowing you to store and organize different types of information together.\n",
    "\n",
    "JSON files are commonly used to store data in web applications, websites, and even in software programs. They are easy to read and write for both humans and computers. Many different programming languages, including Python, can work with JSON files, making it a popular choice for exchanging data between different systems.\n",
    "\n",
    "In simpler terms, a JSON file is a way to store information on a computer in an organized and structured format. It's like a digital recipe book where data is stored as key-value pairs. It helps computers understand and work with the information, and it's widely used in web applications and software programs."
   ]
  },
  {
   "cell_type": "code",
   "execution_count": 72,
   "id": "eb4ba649",
   "metadata": {},
   "outputs": [],
   "source": [
    "import json #to convert to JSON"
   ]
  },
  {
   "cell_type": "code",
   "execution_count": 71,
   "id": "66b471c9",
   "metadata": {},
   "outputs": [
    {
     "name": "stdout",
     "output_type": "stream",
     "text": [
      "{\"page_content\": \"In this passage, the speaker discusses the increasing number of AI startups that are applying to YC and building AI-focused companies. As a result, the episode of \\\"Design Review\\\" will focus entirely on AI startup websites. The speaker, Gary Tan, who is the president of YC, explains that the most important question for startups is why now, referring to the recent surge in activity around large language models. He mentions the use of open AI staff, anthropic, and open source as contributing factors to this excitement. The speaker also highlights the challenge of describing a new category that didn't exist before, which will be explored further in the episode.\\nIn this section of the YouTube transcript, the speaker and Gary are discussing a product called Rosebud. The speaker mentions that Rosebud is related to AI-generated game assets and game development. They note that there is a distracting element on the left side of the screen, but they focus on the three concepts mentioned: AI-generated game assets, game development, and GPT to game. The speaker speculates that Rosebud is likely targeted towards game developers and may not be relevant for those who are not in the game development field. They also mention that sometimes founders try to be clever with their taglines, potentially causing confusion about the product's purpose. However, they acknowledge that the founders may find it clever because they understand what they do.\\nIn this passage, the speaker is discussing the possibility of there being multiple products. They mention that Sprites makes sense as one of these products. They also note that there are multiple calls to action, which they find great. They mention seeing a \\\"try beta\\\" button and decide to click on it. They express interest in the idea and suggest that it would be helpful to have a few clickable options or a flyout menu on the homepage to impress users and avoid the need for extra clicks. They emphasize that extra clicks can lead to a drop-off in user engagement. The passage ends with a mention of additional features such as AI-generated skyboxes, talking heads, and AI avatar animation.\\nIn this passage, the speaker expresses their appreciation for the \\\"how it works\\\" segment of a YouTube video, as it helps them gain a deeper understanding of the topic being discussed. They draw a parallel to YC interviews, where they enjoy using a drag and drop tool to create various AI workflows. The speaker also mentions their liking for the use of hugging face, stability AI, and chat in the video, as these platforms allow users to access and utilize open source models. They believe that many people will resonate with these platforms and feel a sense of personal connection when using them. Additionally, the speaker mentions the presence of a step-by-step debug tool that they find fun, although they express skepticism about the claim of it being enjoyable.\\nIn this passage, the speaker is discussing their experience with encountering a wall while using a product or service. They mention that the wall prompts them to turn back and try again. The speaker expresses frustration, stating that they feel like they are being lied to. However, they also acknowledge that they understand the purpose behind the wall, which is to encourage users to create an account. \\n\\nThe speaker suggests an alternative approach to implementing the wall. They propose that instead of forcing users to create an account upfront, the product or service should be made accessible without any barriers. Only when a user wants to save or use the product should they be prompted to create an account. The speaker believes that this approach would be more effective because users would already be invested in the\\nIn this passage, the speaker is discussing their confusion about a certain feature or function that is being used in real time. They mention that they are halfway through the page and still do not fully understand what it does, but they are trying to figure it out. They acknowledge that most users would not put in as much effort as they are, but they still feel that defending democracy is important. The speaker then mentions an authentication piece and realizes that they were not completely wrong about facial detection. They go on to explain that this feature is used to scan user-generated media for fabricated items and potentially damaging content, in order to prevent it from spreading. It also involves verifying voice prints, tech doctor documents, and enhancing fraud prevention capabilities. The speaker finds this aspect\\nIn this passage, the speaker is having their first conversation with a company and expresses the need to know who the company is and what it does. They mention that they want to be impressed, especially when it comes to AI, and that there should be some sort of impressive feat or strength demonstrated. The speaker also emphasizes the importance of knowing who the company's target audience is, comparing it to Maslow's hierarchy where one cannot progress to the next step without knowing the basics.\\n\\nThe speaker acknowledges that the company does a good job at providing social proof, mentioning that government agencies such as Visa and Microsoft are using their product. This social proof intrigues the speaker and makes them take the company more seriously. However, despite the social proof, the speaker still\\nIn this passage, the speaker discusses the main reason why someone would use a particular product, which is to save money on their Cloud infrastructure. They mention that if the company can demonstrate upfront how much savings can be achieved, it would become a no-brainer for people to use the product. The speaker also comments on the visuals of the product, stating that they like the bright colors and moving elements, but caution against potentially overusing animation, as it can become overwhelming for the user. They suggest being selective about using animation and focusing on drawing attention to the most important elements or next steps for the user. The speaker concludes by mentioning that they have seen many companies that aim to reduce Cloud spending.\\nIn this section of the YouTube transcript, the speaker discusses the importance of having a frequently asked questions (FAQ) section on a website. They mention that although it is not explicitly stated, having an FAQ can pique someone's interest and provide a good user experience. The speaker also comments on the website's homepage, noting that there are hints of a group discount or group buying feature, such as mentions of group discounting and Groupon. However, they express the opinion that it should be made more obvious to users and suggest featuring a customer testimonial who has already saved a certain percentage using the service.\\nIn this passage, the speaker is discussing their impressions of a product that many big companies are using. They find it impressive that well-known companies are using this product, suggesting that it must be of high quality. The speaker also mentions that the interaction image of the product was good and they were able to understand its purpose and whether it was relevant to them. This indicates that the product is well-designed. The speaker speculates that the product has been around for a while and has received feedback from many users, which suggests that it has been iterated upon and improved over time. They also mention that it is beneficial to learn from other products that have been successful and incorporate their techniques. Overall, the speaker has a positive impression of the product based on its\"}\n"
     ]
    }
   ],
   "source": [
    "document_dict = summaries.__dict__.copy()\n",
    "del document_dict['metadata']\n",
    "json_string = json.dumps(document_dict)\n",
    "print(json_string)"
   ]
  },
  {
   "cell_type": "code",
   "execution_count": 80,
   "id": "7c975676",
   "metadata": {},
   "outputs": [],
   "source": [
    "# Creating our custom prompt for the LLM. Here will be a AI startup founder\n",
    "prompt_AI = '''\n",
    "As an AI startup founder, you're looking to build a cutting-edge website powered by artificial intelligence. You'll be provided with a document that contains valuable information on building AI websites. Use this prompt as a guide to maximize your learning and extract the best practices from the documents.\n",
    "\n",
    "---\n",
    "\n",
    "1. Begin by familiarizing yourself with the document content. Pay attention to the different aspects covered, such as design, user experience, and technology implementation.\n",
    "\n",
    "2. Take notes on key recommendations, innovative ideas, and success stories mentioned in the documents. These insights will help you understand the best practices in building an AI website.\n",
    "\n",
    "3. Identify any common patterns or trends among the documents. Look for recurring themes or strategies that successful AI websites employ.\n",
    "\n",
    "4. Evaluate the importance of different design elements, user interactions, and AI integrations in creating a compelling user experience. Consider how these elements can enhance the overall functionality and value of your website.\n",
    "\n",
    "5. Assess the scalability and maintainability of the suggested AI technologies and frameworks. Look for guidance on how to effectively leverage AI capabilities while ensuring long-term sustainability.\n",
    "\n",
    "6. Pay attention to security considerations and ethical implications discussed in the documents. Ensure that your AI website maintains privacy standards, data protection, and responsible AI usage.\n",
    "\n",
    "7. As you navigate through the documents, stay open to new ideas and innovative approaches. Consider how you can adapt and tailor these best practices to align with your unique business goals and target audience.\n",
    "\n",
    "Remember, building an AI website requires a blend of creativity, technical expertise, and strategic thinking. Use the information in these documents to inspire your vision and empower you to create an exceptional AI-driven online presence for your startup.\n",
    "\n",
    "Do not add any information that is not within the document I will give you below\n",
    "---\n",
    "'''\n"
   ]
  },
  {
   "cell_type": "markdown",
   "id": "b201030c",
   "metadata": {},
   "source": [
    "I used chatgpt to create that prompt. You can do the same by using my prompt below as a framework for your own goals.\n",
    "\n",
    "\"Create a chatgpt prompt for an AI startup founder who is about to be fed documents relating to building an AI website, use prompting best practices\""
   ]
  },
  {
   "cell_type": "code",
   "execution_count": 78,
   "id": "f2acdfc3",
   "metadata": {},
   "outputs": [],
   "source": [
    "import openai #import the openAI library\n",
    "\n",
    "#Finally, combine everything (LLM, the prompt, & the summary (json_string) to get your output\n",
    "response = openai.ChatCompletion.create(\n",
    "    temperature = 1.0,\n",
    "    model=\"gpt-3.5-turbo\",\n",
    "    messages=[\n",
    "        {\"role\": \"system\", \"content\": prompt_AI},\n",
    "        {\"role\": \"user\", \"content\": json_string}\n",
    "    ]\n",
    ")"
   ]
  },
  {
   "cell_type": "markdown",
   "id": "090a6f23",
   "metadata": {},
   "source": [
    "# & your final output is 🥁...."
   ]
  },
  {
   "cell_type": "code",
   "execution_count": 83,
   "id": "0e6d1bf6",
   "metadata": {},
   "outputs": [
    {
     "name": "stdout",
     "output_type": "stream",
     "text": [
      "Key Recommendations and Innovative Ideas:\n",
      "- Focus on the \"why now\" factor for AI startups and highlight the recent surge in activity around large language models.\n",
      "- Leverage open AI staff, anthropic, and open source platforms to contribute to the excitement around AI.\n",
      "- Use clear and concise taglines to avoid confusion about the product's purpose.\n",
      "- Incorporate multiple calls to action, but minimize the need for extra clicks to avoid drop-off in user engagement.\n",
      "- Provide a step-by-step guide or debug tool to enhance user experience.\n",
      "- Implement accessible onboarding processes that prompt users to create an account only when necessary.\n",
      "- Utilize facial detection and authentication features to prevent the spread of fabricated content and enhance fraud prevention.\n",
      "- Demonstrate impressive feats or strengths of the company to impress potential users.\n",
      "- Highlight social proof from reputable organizations to increase credibility.\n",
      "- Show upfront cost savings for products targeting Cloud infrastructure users.\n",
      "- Include an FAQ section on the website to provide a good user experience.\n",
      "- Learn from successful products and incorporate their effective techniques.\n",
      "\n",
      "Common Patterns and Trends:\n",
      "- The importance of highlighting the \"why now\" factor and recent advancements in AI technology.\n",
      "- The need for clear and concise messaging to avoid confusion about the product's purpose.\n",
      "- The emphasis on minimizing clicks and streamlining user interactions.\n",
      "- The value of social proof and credibility from reputable organizations.\n",
      "- The focus on cost savings and value proposition to attract users.\n",
      "- The inclusion of user-friendly features like step-by-step guides and FAQ sections.\n",
      "\n",
      "Importance of Design Elements, User Interactions, and AI Integrations:\n",
      "- Clear and concise messaging to communicate the product's purpose.\n",
      "- Streamlined and intuitive user interactions to minimize drop-off.\n",
      "- Incorporation of AI technologies, such as facial detection and authentication, to enhance security and user experience.\n",
      "- Visual design elements, such as animation, should be used selectively to draw attention to important elements and next steps.\n",
      "\n",
      "Scalability and Maintainability of AI Technologies and Frameworks:\n",
      "- Evaluate the scalability and long-term sustainability of AI technologies and frameworks to ensure consistent performance and future-proofing.\n",
      "\n",
      "Security Considerations and Ethical Implications:\n",
      "- Privacy standards and data protection should be maintained, especially when integrating facial detection and authentication features.\n",
      "- Responsible AI usage should be considered, particularly when scanning user-generated media for fabricated items or potentially damaging content.\n",
      "\n",
      "Adapting and Tailoring Best Practices:\n",
      "- Consider how the identified best practices can be adapted and tailored to align with the unique business goals and target audience of the AI startup.\n"
     ]
    }
   ],
   "source": [
    "print(response['choices'][0]['message']['content'])\n"
   ]
  },
  {
   "cell_type": "markdown",
   "id": "a7f7fe61",
   "metadata": {},
   "source": [
    "And there you have it. A complete compresensive summary of a 25 minute YouTube video. You can see how powerful it is at creating both summaries of what was said and actionable advice for you to take."
   ]
  }
 ],
 "metadata": {
  "kernelspec": {
   "display_name": "Python 3 (ipykernel)",
   "language": "python",
   "name": "python3"
  },
  "language_info": {
   "codemirror_mode": {
    "name": "ipython",
    "version": 3
   },
   "file_extension": ".py",
   "mimetype": "text/x-python",
   "name": "python",
   "nbconvert_exporter": "python",
   "pygments_lexer": "ipython3",
   "version": "3.8.8"
  }
 },
 "nbformat": 4,
 "nbformat_minor": 5
}
